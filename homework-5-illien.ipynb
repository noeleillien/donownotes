{
 "cells": [
  {
   "cell_type": "markdown",
   "metadata": {},
   "source": [
    "# Do Now - 2"
   ]
  },
  {
   "cell_type": "markdown",
   "metadata": {},
   "source": [
    "##1) Given the following code, what is the output?"
   ]
  },
  {
   "cell_type": "code",
   "execution_count": 3,
   "metadata": {
    "collapsed": false
   },
   "outputs": [
    {
     "name": "stdout",
     "output_type": "stream",
     "text": [
      "25\n",
      "5\n",
      "catdog\n",
      "cat dog\n"
     ]
    }
   ],
   "source": [
    "i = 5\n",
    "print 5 * 5\n",
    "# Displays 25\n",
    "print i\n",
    "# Displays 5\n",
    "print \"cat\" + \"dog\"\n",
    "# Displays catdog\n",
    "print \"cat\", \"dog\"\n",
    "# Displays cat dog"
   ]
  },
  {
   "cell_type": "markdown",
   "metadata": {},
   "source": [
    "##2a) The code below doesn't work. Why not?"
   ]
  },
  {
   "cell_type": "code",
   "execution_count": 6,
   "metadata": {
    "collapsed": false
   },
   "outputs": [],
   "source": [
    "print 5 + \"5\"\n",
    "# You are trying to add a string to an integer.\n",
    "# You need to change it to:\n",
    "# print \"5\" + \"5\"\n",
    "# or print 5 + 5"
   ]
  },
  {
   "cell_type": "markdown",
   "metadata": {},
   "source": [
    "## 2b) There are several ways to make it work! Give two possible changes and what the output would be in each case."
   ]
  },
  {
   "cell_type": "code",
   "execution_count": null,
   "metadata": {
    "collapsed": false
   },
   "outputs": [],
   "source": [
    "print str(5) + \"5\"\n",
    "# Displays 55\n",
    "print 5 + int(\"5\")\n",
    "# Displays 10"
   ]
  },
  {
   "cell_type": "markdown",
   "metadata": {},
   "source": [
    "## 3) What is wrong with the following if statement?"
   ]
  },
  {
   "cell_type": "code",
   "execution_count": 17,
   "metadata": {
    "collapsed": false
   },
   "outputs": [
    {
     "name": "stdout",
     "output_type": "stream",
     "text": [
      "Two\n"
     ]
    }
   ],
   "source": [
    "number = [6, 33, 6, 4, 74, 7, 2, 4]\n",
    "for n in number:\n",
    "    if n == 2:\n",
    "        print \"Two\"\n",
    "# You need to define the list that n belongs to\n",
    "# The output is "
   ]
  },
  {
   "cell_type": "markdown",
   "metadata": {},
   "source": [
    "##4) Given the following code, what would the output be for       n = 0, 10, -1, 3, and -5?"
   ]
  },
  {
   "cell_type": "code",
   "execution_count": null,
   "metadata": {
    "collapsed": false
   },
   "outputs": [],
   "source": [
    "print n\n",
    "# Displays what n is i.e. 0, 10, -1, 3, -5.\n",
    "if n > 0:\n",
    "  print \"A\"\n",
    "# A is displayed when n = 10, 3\n",
    "  if n >= 3:\n",
    "    print \"B\"\n",
    "# B is displayed when n = 10, 3\n",
    "    print \"C\"\n",
    "# C is displayed when n = 10, 3\n",
    "  elif n > 2:\n",
    "    print \"D\"\n",
    "# D is never displayed\n",
    "  else:\n",
    "    print \"E\"\n",
    "elif 1 > n > -2:\n",
    "  print \"F\"\n",
    "# F is displayed when n = 0, -1\n",
    "else:\n",
    "  print \"G\"\n",
    "# G is displayed when n = -5\n",
    "if n < 5:\n",
    "  print \"H\"\n",
    "# H is displayed when n = 0, -1, 3, -5"
   ]
  },
  {
   "cell_type": "markdown",
   "metadata": {},
   "source": [
    "# Do Now - 3"
   ]
  },
  {
   "cell_type": "markdown",
   "metadata": {},
   "source": [
    "## 1) What two errors can you spot below?"
   ]
  },
  {
   "cell_type": "code",
   "execution_count": null,
   "metadata": {
    "collapsed": false
   },
   "outputs": [],
   "source": [
    "n = 2;\n",
    "if n < 2:\n",
    "  print \"Small\"\n",
    "elif n == 2:\n",
    "# Display if you are setting n equal to something you need `==` rather than =\n",
    "  print \"Medium\"\n",
    "else: \n",
    "# In an if statement, each condition needs to be followed by a `:`\n",
    "    print \"Large\""
   ]
  },
  {
   "cell_type": "markdown",
   "metadata": {},
   "source": [
    "##2) Given the following code, '11238' is a KEY and 23 is a VALUE. \n",
    "{ '11238': 23, '10011': 47 }\n"
   ]
  },
  {
   "cell_type": "markdown",
   "metadata": {},
   "source": [
    "## 3) How would you add a 'low' of 54 to the following dictionary?\n",
    "\n",
    "weather = { 'high': 66, 'appearance': 'cloudy' }\n"
   ]
  },
  {
   "cell_type": "code",
   "execution_count": 37,
   "metadata": {
    "collapsed": false
   },
   "outputs": [
    {
     "name": "stdout",
     "output_type": "stream",
     "text": [
      "{'high': 66, 'appearance': 'cloudy', 'low': 54}\n"
     ]
    }
   ],
   "source": [
    "# to add another temperature to the above dictionary\n",
    "weather = { 'high': 66, 'appearance': 'cloudy' }\n",
    "weather['low'] = 54\n",
    "print weather"
   ]
  },
  {
   "cell_type": "markdown",
   "metadata": {},
   "source": [
    "## 4) How can we easily get the total of the list below? How about a count of how many elements are in the list?"
   ]
  },
  {
   "cell_type": "code",
   "execution_count": 2,
   "metadata": {
    "collapsed": false
   },
   "outputs": [
    {
     "name": "stdout",
     "output_type": "stream",
     "text": [
      "7\n",
      "28\n"
     ]
    }
   ],
   "source": [
    "numbers = [ 1, 2, 3, 4, 5, 6, 7]\n",
    "# This tells you how many elements are in the list.\n",
    "print len(numbers)\n",
    "# This gives you the total of all the elements.\n",
    "print sum(numbers)"
   ]
  },
  {
   "cell_type": "markdown",
   "metadata": {},
   "source": [
    "## 5) Print the 3rd element of a list named dogs. \n",
    "\n"
   ]
  },
  {
   "cell_type": "code",
   "execution_count": null,
   "metadata": {
    "collapsed": true
   },
   "outputs": [],
   "source": [
    "print dogs[2]"
   ]
  },
  {
   "cell_type": "markdown",
   "metadata": {},
   "source": [
    "## 5a) Given the following dictionary, how can we get a list of all three ZIP codes?\n"
   ]
  },
  {
   "cell_type": "code",
   "execution_count": 9,
   "metadata": {
    "collapsed": true
   },
   "outputs": [],
   "source": [
    "data = { '11238': 23, '10011': 47, '10012': 10 }"
   ]
  },
  {
   "cell_type": "code",
   "execution_count": 11,
   "metadata": {
    "collapsed": false
   },
   "outputs": [
    {
     "name": "stdout",
     "output_type": "stream",
     "text": [
      "['11238', '10012', '10011']\n"
     ]
    }
   ],
   "source": [
    "# To get a list of all the zip codes\n",
    "print data.keys()"
   ]
  },
  {
   "cell_type": "markdown",
   "metadata": {},
   "source": [
    "## 5b) Write a for loop that prints all three zip codes on separate lines. "
   ]
  },
  {
   "cell_type": "code",
   "execution_count": 17,
   "metadata": {
    "collapsed": false
   },
   "outputs": [
    {
     "name": "stdout",
     "output_type": "stream",
     "text": [
      "11238\n",
      "10012\n",
      "10011\n"
     ]
    }
   ],
   "source": [
    "data_keys = data.keys()\n",
    "# This prints each zip code on its own line.\n",
    "for zip in data_keys:\n",
    "    print zip"
   ]
  },
  {
   "cell_type": "markdown",
   "metadata": {},
   "source": [
    "##6) Given the following list, add together any numbers greater than 10.\n",
    "\n",
    "values = [20, 30 ,10, 5, 99]\n"
   ]
  },
  {
   "cell_type": "code",
   "execution_count": 20,
   "metadata": {
    "collapsed": false
   },
   "outputs": [
    {
     "name": "stdout",
     "output_type": "stream",
     "text": [
      "149\n"
     ]
    }
   ],
   "source": [
    "values = [20, 30 ,10, 5, 99]\n",
    "result = 0\n",
    "#This means that every time the loop receives a number greater than 10, it adds it to result.\n",
    "for num in values:\n",
    "    if num > 10:\n",
    "        result = result + num\n",
    "#By putting print result here it prints the total after running the whole list.\n",
    "print result"
   ]
  },
  {
   "cell_type": "markdown",
   "metadata": {},
   "source": [
    "#Do Now - 4"
   ]
  },
  {
   "cell_type": "markdown",
   "metadata": {},
   "source": [
    "## 1) Print the 3rd element of a list called dogs."
   ]
  },
  {
   "cell_type": "code",
   "execution_count": null,
   "metadata": {
    "collapsed": true
   },
   "outputs": [],
   "source": [
    "# The first element is 0 which is why you have to put 2 in order to get the third element.\n",
    "dogs[2] "
   ]
  },
  {
   "cell_type": "markdown",
   "metadata": {},
   "source": [
    "## 2) What is the output of the following code?"
   ]
  },
  {
   "cell_type": "code",
   "execution_count": 22,
   "metadata": {
    "collapsed": false
   },
   "outputs": [
    {
     "name": "stdout",
     "output_type": "stream",
     "text": [
      "1 green\n",
      "2 green\n",
      "3 green\n",
      "4 green\n",
      "1 blue\n",
      "2 blue\n",
      "3 blue\n",
      "4 blue\n"
     ]
    }
   ],
   "source": [
    "numbers = [ 1, 2, 3, 4]\n",
    "colors = [ \"green\", \"blue\" ]\n",
    "for color in colors:\n",
    "\tfor number in numbers:\n",
    "\t\tprint number, color\n",
    "\n",
    "# Above is a for loop nested within a for loop. This means that the loop receives the color \n",
    "# `green' and then goes through the whole number loop, before doing the same again with `blue.`"
   ]
  },
  {
   "cell_type": "markdown",
   "metadata": {},
   "source": [
    "## 3) What command would you use to get the first 100 lines of data.csv, and save it into a new file named sample.csv?"
   ]
  },
  {
   "cell_type": "code",
   "execution_count": null,
   "metadata": {
    "collapsed": true
   },
   "outputs": [],
   "source": [
    "# Do this all in the command line:\n",
    "head -n 100 data.csv > sample.csv\n",
    "# head tells you to start at the top. Tails would be the bottom x lines\n",
    "# -n 100 tells you to get 100 lines\n",
    "# data.csv is the name of the old file\n",
    "# sample.csv is the name of the new file"
   ]
  },
  {
   "cell_type": "markdown",
   "metadata": {},
   "source": [
    "##4) What is missing from the lines below? (It isn't 100% necessary, but we use it for convenience)\n",
    "\n",
    "file = open(\"lists.csv\")\n",
    "cars = csv.DictReader(file)"
   ]
  },
  {
   "cell_type": "code",
   "execution_count": null,
   "metadata": {
    "collapsed": true
   },
   "outputs": [],
   "source": [
    "# in order to import and load a csv document it is important to do the below:\n",
    "import csv\n",
    "file = open(\"lists.csv\")\n",
    "cars = csv.reader(file)\n",
    "cars = csv.DictReader(file)"
   ]
  },
  {
   "cell_type": "markdown",
   "metadata": {},
   "source": [
    "## 5) Write a for loop to add up all of the years. Save it to a variable called total."
   ]
  },
  {
   "cell_type": "code",
   "execution_count": 25,
   "metadata": {
    "collapsed": false
   },
   "outputs": [
    {
     "name": "stdout",
     "output_type": "stream",
     "text": [
      "8035\n"
     ]
    }
   ],
   "source": [
    "years = [2011, 2010, 2013, 2001]\n",
    "total = 0\n",
    "for year in years:\n",
    "# Whenever a new element enters the for loop the below code means it gets added to `total.`\n",
    "    total = total + year\n",
    "print total\n",
    "#   print total \n",
    "# If I indented print total, like above, it would print each addition as it is happening."
   ]
  },
  {
   "cell_type": "markdown",
   "metadata": {},
   "source": [
    "## 6) I'd like a new list called favorites that includes all cars that are black or produced after 2010. Write a for loop to create this list."
   ]
  },
  {
   "cell_type": "code",
   "execution_count": null,
   "metadata": {
    "collapsed": true
   },
   "outputs": [],
   "source": [
    "favorites = []\n",
    "for car in cars:\n",
    "    if car['color'] == 'black' and year > 2010:\n",
    "        favorites.append()\n",
    "print favorites"
   ]
  },
  {
   "cell_type": "markdown",
   "metadata": {},
   "source": [
    "# Do Now - 5"
   ]
  },
  {
   "cell_type": "markdown",
   "metadata": {},
   "source": [
    "## 1) What's the output of the following lines?"
   ]
  },
  {
   "cell_type": "code",
   "execution_count": 26,
   "metadata": {
    "collapsed": false
   },
   "outputs": [
    {
     "name": "stdout",
     "output_type": "stream",
     "text": [
      "hello name\n",
      "hello Max\n"
     ]
    }
   ],
   "source": [
    "name = \"Max\"\n",
    "print \"hello\", \"name\"\n",
    "# 'name' is a string\n",
    "print \"hello\", name\n",
    "# name is a variable"
   ]
  },
  {
   "cell_type": "markdown",
   "metadata": {},
   "source": [
    "## 2) What is the output of the following code? Which lines give you errors?\n",
    "\n"
   ]
  },
  {
   "cell_type": "code",
   "execution_count": 34,
   "metadata": {
    "collapsed": false
   },
   "outputs": [
    {
     "name": "stdout",
     "output_type": "stream",
     "text": [
      "Manhattan\n",
      "500\n",
      "Manhattan\n"
     ]
    }
   ],
   "source": [
    "borough_name = 'Manhattan'\n",
    "z = [ 'Manhattan', 'Queens' ]\n",
    "x = { 'borough_name': 'Manhattan', 'population': 500 }\n",
    "y = {\n",
    "'Manhattan': 500,\n",
    "'Queens': 200\n",
    "}\n",
    "\n",
    "print x['borough_name']\n",
    "# The below line doesn't work\n",
    "# print x[borough_name]\n",
    "# The below line doesn't work because x is a dictionary, not a list.\n",
    "# print x[0]\n",
    "# The below line doesn't work\n",
    "# print y['borough_name']\n",
    "print y[borough_name]\n",
    "# The below line doesn't work because `y` is a dictionary not a list.\n",
    "# print y[0]\n",
    "# The below line doesn't work\n",
    "# print z['borough_name']\n",
    "# print z[borough_name]\n",
    "print z[0]"
   ]
  },
  {
   "cell_type": "markdown",
   "metadata": {},
   "source": [
    "## 3) We have a list called numbers, but we had an off-by-one error: add one to every element of the list, then sum the results. Do this in one line."
   ]
  },
  {
   "cell_type": "code",
   "execution_count": 66,
   "metadata": {
    "collapsed": false
   },
   "outputs": [
    {
     "name": "stdout",
     "output_type": "stream",
     "text": [
      "150\n"
     ]
    }
   ],
   "source": [
    "numbers = [9, 19, 29, 39, 49]\n",
    "print sum([num +1 for num in numbers])"
   ]
  },
  {
   "cell_type": "markdown",
   "metadata": {},
   "source": [
    "## 4a) Given the following, write code to calculate how many murders we have in total.\n",
    "\n",
    "murders = { 'Albany': 23, 'Kings County': 10, 'Rochester': 7, 'Yonkers: 9 }\n"
   ]
  },
  {
   "cell_type": "code",
   "execution_count": 48,
   "metadata": {
    "collapsed": false
   },
   "outputs": [
    {
     "name": "stdout",
     "output_type": "stream",
     "text": [
      "49\n"
     ]
    }
   ],
   "source": [
    "total = 0\n",
    "murders = { 'Albany': 23, 'Kings County': 10, 'Rochester': 7, 'Yonkers': 9 }\n",
    "for death in murders:\n",
    "   total = total + murders[death]\n",
    "# murders[death] gives the value which corresponds to each key.\n",
    "print total"
   ]
  },
  {
   "cell_type": "markdown",
   "metadata": {},
   "source": [
    "## 4b) Write code to calculate the percentage of the murders happened in Kings County."
   ]
  },
  {
   "cell_type": "code",
   "execution_count": 56,
   "metadata": {
    "collapsed": false
   },
   "outputs": [],
   "source": [
    "percentage = float(murders['Kings County']) / float(total) * 100"
   ]
  },
  {
   "cell_type": "code",
   "execution_count": 64,
   "metadata": {
    "collapsed": false
   },
   "outputs": [
    {
     "name": "stdout",
     "output_type": "stream",
     "text": [
      "20.41 % of murders are happening in Kings County.\n"
     ]
    }
   ],
   "source": [
    "two_decimal = \"{0:.2f}\".format(percentage)\n",
    "print two_decimal, \"% of murders are happening in Kings County.\""
   ]
  },
  {
   "cell_type": "markdown",
   "metadata": {
    "collapsed": true
   },
   "source": [
    "# Do Now - 6\n",
    "Monday, June 15, 2015"
   ]
  },
  {
   "cell_type": "markdown",
   "metadata": {},
   "source": [
    "## 1) What does CSV stand for?\n",
    "\n",
    "comma-seperated values\n",
    "\n",
    "value|value|value|value|value|\n",
    "blah!!blah!!blah!!blah!!blah!!"
   ]
  },
  {
   "cell_type": "markdown",
   "metadata": {},
   "source": [
    "##2) What's the output of the following lines?\n"
   ]
  },
  {
   "cell_type": "code",
   "execution_count": 1,
   "metadata": {
    "collapsed": false
   },
   "outputs": [
    {
     "name": "stdout",
     "output_type": "stream",
     "text": [
      "owner Jessica Goodman\n",
      "name Company LLC\n",
      "address 34 45th St\n"
     ]
    }
   ],
   "source": [
    "company = { 'address': '34 45th St', 'name': 'Company LLC', 'owner': 'Jessica Goodman' }\n",
    "\n",
    "for key in company.keys():\n",
    "\tprint key, company[key]\n"
   ]
  },
  {
   "cell_type": "markdown",
   "metadata": {},
   "source": [
    "## 3) Write a list comprehension to get the name of each of these companies."
   ]
  },
  {
   "cell_type": "code",
   "execution_count": 2,
   "metadata": {
    "collapsed": true
   },
   "outputs": [],
   "source": [
    "companies = [ { 'name': 'Rogers Moving', 'address': '44 34nd St' }, { 'name': 'Box Supplies Inc', 'address': '45 34th Ave' }, { 'name': 'n/a', 'address': 'unknown'} ] "
   ]
  },
  {
   "cell_type": "code",
   "execution_count": 5,
   "metadata": {
    "collapsed": false
   },
   "outputs": [
    {
     "data": {
      "text/plain": [
       "['Rogers Moving', 'Box Supplies Inc', 'n/a']"
      ]
     },
     "execution_count": 5,
     "metadata": {},
     "output_type": "execute_result"
    }
   ],
   "source": [
    "[company['name'] for company in companies]"
   ]
  },
  {
   "cell_type": "markdown",
   "metadata": {},
   "source": [
    "## 4) Given the variables rating and target, print \"Failed\" if we didn't meet the target, \"Success\" if we met or exceeded the target, and \"Excellent work\" if we did more than double the target. If the target is zero, though, also print \"Easy\".\n",
    " \n"
   ]
  },
  {
   "cell_type": "code",
   "execution_count": null,
   "metadata": {
    "collapsed": true
   },
   "outputs": [],
   "source": [
    "if rating < target:\n",
    "    print \"Failed\"\n",
    "elif rating > target * 2:\n",
    "    print \"Excellent\"\n",
    "else:\n",
    "    print \"Success\"\n",
    "if target == 0:\n",
    "    print \"Easy\""
   ]
  },
  {
   "cell_type": "markdown",
   "metadata": {},
   "source": [
    "## 5a) Given the following, write code to calculate how many murders we have in total."
   ]
  },
  {
   "cell_type": "code",
   "execution_count": 7,
   "metadata": {
    "collapsed": false
   },
   "outputs": [],
   "source": [
    "murders = { 'Albany': 23, 'Kings County': 10, 'Rochester': 7, 'Yonkers': 9 }"
   ]
  },
  {
   "cell_type": "code",
   "execution_count": 22,
   "metadata": {
    "collapsed": false
   },
   "outputs": [
    {
     "name": "stdout",
     "output_type": "stream",
     "text": [
      "49\n"
     ]
    }
   ],
   "source": [
    "# ALWAYS use .keys() because otherwise you'll forget you're working on a dictionary.\n",
    "# The above means if you are doing a for loop.\n",
    "print sum(murders.values())"
   ]
  },
  {
   "cell_type": "code",
   "execution_count": 26,
   "metadata": {
    "collapsed": false
   },
   "outputs": [
    {
     "name": "stdout",
     "output_type": "stream",
     "text": [
      "39\n"
     ]
    }
   ],
   "source": [
    "print sum(murders.values()) - murders['Kings County']"
   ]
  },
  {
   "cell_type": "code",
   "execution_count": 25,
   "metadata": {
    "collapsed": false
   },
   "outputs": [
    {
     "name": "stdout",
     "output_type": "stream",
     "text": [
      "['Albany', 'Kings County', 'Rochester', 'Yonkers']\n"
     ]
    }
   ],
   "source": [
    "counties = murders.keys()\n",
    "print sorted(counties)\n"
   ]
  },
  {
   "cell_type": "code",
   "execution_count": null,
   "metadata": {
    "collapsed": true
   },
   "outputs": [],
   "source": []
  }
 ],
 "metadata": {
  "kernelspec": {
   "display_name": "Python 2",
   "language": "python",
   "name": "python2"
  },
  "language_info": {
   "codemirror_mode": {
    "name": "ipython",
    "version": 2
   },
   "file_extension": ".py",
   "mimetype": "text/x-python",
   "name": "python",
   "nbconvert_exporter": "python",
   "pygments_lexer": "ipython2",
   "version": "2.7.9"
  }
 },
 "nbformat": 4,
 "nbformat_minor": 0
}
